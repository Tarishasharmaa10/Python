{
 "cells": [
  {
   "cell_type": "code",
   "execution_count": 1,
   "id": "921bea73",
   "metadata": {},
   "outputs": [],
   "source": [
    "import pandas as pd\n",
    "import numpy as np"
   ]
  },
  {
   "cell_type": "markdown",
   "id": "72d0b6f7",
   "metadata": {},
   "source": [
    "### Q1)  count all letters,digits,special symbols from a given string\n",
    "### str=\"I@#ma26rt^&ic5us\""
   ]
  },
  {
   "cell_type": "code",
   "execution_count": 2,
   "id": "b5b0ab64",
   "metadata": {},
   "outputs": [
    {
     "name": "stdout",
     "output_type": "stream",
     "text": [
      "letters: 9\n",
      "digits: 3\n",
      "special symbols: 4\n"
     ]
    }
   ],
   "source": [
    "str_=\"I@#ma26rt^&ic5us\"\n",
    "l_count=0\n",
    "d_count=0\n",
    "ss_count=0\n",
    "\n",
    "for char in str_:\n",
    "    if char.isalpha():\n",
    "        l_count +=1\n",
    "    elif char.isdigit():\n",
    "        d_count +=1\n",
    "    else:\n",
    "        ss_count +=1\n",
    "        \n",
    "print(\"letters:\", l_count)\n",
    "print(\"digits:\",d_count)\n",
    "print(\"special symbols:\",ss_count)"
   ]
  },
  {
   "cell_type": "markdown",
   "id": "8230d721",
   "metadata": {},
   "source": [
    "### Q2) Write a python program to find numbers divisible by nineteen or thirteen from a list of numbers using lambda\n",
    "### a=[19,65,57,39,152,639,121,44,90,190]"
   ]
  },
  {
   "cell_type": "code",
   "execution_count": 3,
   "id": "504caa10",
   "metadata": {},
   "outputs": [
    {
     "name": "stdout",
     "output_type": "stream",
     "text": [
      "number divisible by 13 or 19: [19, 65, 57, 39, 152, 190]\n"
     ]
    }
   ],
   "source": [
    "A=[19,65,57,39,152,639,121,44,90,190]\n",
    "L=list(filter(lambda x: x%13==0 or x%19==0,A))\n",
    "print(\"number divisible by 13 or 19:\",L)"
   ]
  },
  {
   "cell_type": "markdown",
   "id": "f0b5bcb1",
   "metadata": {},
   "source": [
    "### Q3)Find all of the words in a string that are less than 5 letters.\n",
    "### string = \"Practice Problems to Drill List Comprehension in Your Head.\""
   ]
  },
  {
   "cell_type": "code",
   "execution_count": 4,
   "id": "0d4c41b9",
   "metadata": {},
   "outputs": [
    {
     "name": "stdout",
     "output_type": "stream",
     "text": [
      "{'Practice': 8, 'Problems': 8, 'to': 2, 'Drill': 5, 'List': 4, 'Comprehension': 13, 'in': 2, 'Your': 4, 'Head.': 5}\n",
      "words in a string that are less than 5 letters: ['to', 'List', 'in', 'Your']\n"
     ]
    }
   ],
   "source": [
    "string = \"Practice Problems to Drill List Comprehension in Your Head.\"\n",
    "S=string.split()   \n",
    "N={}\n",
    "for i in S:\n",
    "    N[i]=len(i)\n",
    "print(N)\n",
    "W=[i[0] for i in N.items() if i[1]<5]\n",
    "print(\"words in a string that are less than 5 letters:\",W)"
   ]
  },
  {
   "cell_type": "markdown",
   "id": "73f047f2",
   "metadata": {},
   "source": [
    "### Q4) Calculate income tax for the given income by adhering to the below rules:\n",
    "###     Taxable income         Rate (in %)\n",
    "###     First 10,000           0 \n",
    "###     Next 10,000            10  \n",
    "###   The remaining           20  \n",
    "###     \n",
    "###     Expected Output:  \n",
    "###     For example, suppose the taxable income is 45000 the income tax payable is:\n",
    "###         10000 0% + 10000 10% + 25000 20% = 6000."
   ]
  },
  {
   "cell_type": "code",
   "execution_count": 13,
   "id": "807894d0",
   "metadata": {},
   "outputs": [
    {
     "name": "stdout",
     "output_type": "stream",
     "text": [
      "enter the amount50000\n",
      "your tax is in $ 7000.0\n"
     ]
    }
   ],
   "source": [
    "n=int(input(\"enter the amount\"))\n",
    "if ( n<=10000):\n",
    "    t=0\n",
    "elif(n<=20000):\n",
    "    t=(n-10000)*0.1\n",
    "else:\n",
    "    tax=(n-20000)*0.2+10000*0.1\n",
    "print(\"your tax is in $\",tax)    "
   ]
  },
  {
   "cell_type": "markdown",
   "id": "2e49a478",
   "metadata": {},
   "source": [
    "### Q5) Given below are the list of positive and negative words. Also, a list of tweets is provided. Separate out the positive and negative comments.\n",
    "###\n",
    "### positive = ['good','awesome', 'best', 'nice']  \n",
    "### negative = ['worst','awful', 'bad']  \n",
    "### tweets = ['This government policies are good',\n",
    "###           'bad implementation',\n",
    "###           'The way he played showed that he is one of the best players in the world', \n",
    "###           'Her acting in the play was awesome', 'The wine tastes awful', \n",
    "###           'It's nice to hear this little kid's laugh']"
   ]
  },
  {
   "cell_type": "code",
   "execution_count": 5,
   "id": "70588d51",
   "metadata": {},
   "outputs": [
    {
     "name": "stdout",
     "output_type": "stream",
     "text": [
      "positive comments: ['This government policies are good', 'Her acting in the play was awesome', 'The way he played showed that he is one of the best players in the world', \"'It's nice to hear this little kid's laugh\"]\n",
      "negative comments: ['The wine tastes awful', 'bad implementation']\n"
     ]
    }
   ],
   "source": [
    "positive = ['good','awesome', 'best', 'nice']  \n",
    "negative = ['worst','awful', 'bad']  \n",
    "tweets = ['This government policies are good','bad implementation',\n",
    "          'The way he played showed that he is one of the best players in the world', \n",
    "          'Her acting in the play was awesome', 'The wine tastes awful', \"'It's nice to hear this little kid's laugh\"]\n",
    "p_comments=[]\n",
    "n_comments=[]\n",
    "for i in positive:\n",
    "    for j in tweets:\n",
    "        if i in j:\n",
    "            p_comments.append(j)\n",
    "for i in negative:\n",
    "    for j in tweets:\n",
    "        if i in j:\n",
    "            n_comments.append(j)\n",
    "print(\"positive comments:\",p_comments)     \n",
    "print(\"negative comments:\",n_comments)\n",
    "    "
   ]
  },
  {
   "cell_type": "markdown",
   "id": "5b6647fc",
   "metadata": {},
   "source": [
    "### Q6)Extend nested list by adding the sublist. \n",
    "### You have given a nested list. Write a program to extend it by \n",
    "### adding the sublist [\"h\", \"i\", \"j\"] in such a way that it will look like the following list.\n",
    "### list1 = [\"a\", \"b\", [\"c\", [\"d\", \"e\", [\"f\", \"g\"], \"k\"], \"l\"], \"m\", \"n\"] sub list to add \n",
    "### sub_list = [\"h\", \"i\", \"j\"] \n",
    "### expected output =['a', 'b', ['c', ['d', 'e', ['f', 'g', 'h', 'i', 'j'], 'k'], 'l'], 'm', 'n']"
   ]
  },
  {
   "cell_type": "code",
   "execution_count": 6,
   "id": "3740c6bc",
   "metadata": {},
   "outputs": [
    {
     "name": "stdout",
     "output_type": "stream",
     "text": [
      "['a', 'b', ['c', ['d', 'e', ['f', 'g', 'h', 'i', 'j'], 'k'], 'l'], 'm', 'n']\n"
     ]
    }
   ],
   "source": [
    "list_=[\"a\", \"b\", [\"c\", [\"d\", \"e\", [\"f\", \"g\"], \"k\"], \"l\"], \"m\", \"n\"]\n",
    "sub_list = [\"h\", \"i\", \"j\"]\n",
    "list_[2][1][2]=list_[2][1][2]+sub_list\n",
    "print(list_)"
   ]
  },
  {
   "cell_type": "markdown",
   "id": "bbc1e741",
   "metadata": {},
   "source": [
    "### Q7)Remove and add item in a list.\n",
    "### Write a program to remove the item present at index 4 and add it to the 2nd position and\n",
    "### at the end of the list. \n",
    "### list1 = [54, 44, 27, 79, 91, 41]"
   ]
  },
  {
   "cell_type": "code",
   "execution_count": 7,
   "id": "94162912",
   "metadata": {},
   "outputs": [
    {
     "name": "stdout",
     "output_type": "stream",
     "text": [
      "[54, 44, 91, 27, 79, 41]\n",
      "[54, 44, 91, 27, 79, 41, 91]\n"
     ]
    }
   ],
   "source": [
    "list1=[54,44,27,79,91,41]\n",
    "A=list1.pop(4)\n",
    "list1.insert(2,A)\n",
    "print(list1)\n",
    "list1.append(A)\n",
    "print(list1)"
   ]
  },
  {
   "cell_type": "markdown",
   "id": "e501e438",
   "metadata": {},
   "source": [
    "### Q8)Load the iris dataset and Find only those records whose sepal_length = 5.1 and sepal_width = 3.5"
   ]
  },
  {
   "cell_type": "code",
   "execution_count": 8,
   "id": "62c67bc3",
   "metadata": {},
   "outputs": [
    {
     "data": {
      "text/html": [
       "<div>\n",
       "<style scoped>\n",
       "    .dataframe tbody tr th:only-of-type {\n",
       "        vertical-align: middle;\n",
       "    }\n",
       "\n",
       "    .dataframe tbody tr th {\n",
       "        vertical-align: top;\n",
       "    }\n",
       "\n",
       "    .dataframe thead th {\n",
       "        text-align: right;\n",
       "    }\n",
       "</style>\n",
       "<table border=\"1\" class=\"dataframe\">\n",
       "  <thead>\n",
       "    <tr style=\"text-align: right;\">\n",
       "      <th></th>\n",
       "      <th>Sepal.Length</th>\n",
       "      <th>Sepal.Width</th>\n",
       "      <th>Petal.Length</th>\n",
       "      <th>Petal.Width</th>\n",
       "      <th>Species</th>\n",
       "    </tr>\n",
       "  </thead>\n",
       "  <tbody>\n",
       "    <tr>\n",
       "      <th>0</th>\n",
       "      <td>5.1</td>\n",
       "      <td>3.5</td>\n",
       "      <td>1.4</td>\n",
       "      <td>0.2</td>\n",
       "      <td>setosa</td>\n",
       "    </tr>\n",
       "    <tr>\n",
       "      <th>17</th>\n",
       "      <td>5.1</td>\n",
       "      <td>3.5</td>\n",
       "      <td>1.4</td>\n",
       "      <td>0.3</td>\n",
       "      <td>setosa</td>\n",
       "    </tr>\n",
       "  </tbody>\n",
       "</table>\n",
       "</div>"
      ],
      "text/plain": [
       "    Sepal.Length  Sepal.Width  Petal.Length  Petal.Width Species\n",
       "0            5.1          3.5           1.4          0.2  setosa\n",
       "17           5.1          3.5           1.4          0.3  setosa"
      ]
     },
     "execution_count": 8,
     "metadata": {},
     "output_type": "execute_result"
    }
   ],
   "source": [
    "df=pd.read_csv(\"iris (1).csv\")\n",
    "df[(df['Sepal.Length']==5.1)&(df['Sepal.Width']==3.5)]"
   ]
  },
  {
   "cell_type": "markdown",
   "id": "f1308a9e",
   "metadata": {},
   "source": [
    "### Q9)Check for Maximum petal_length and convert it in to 7.2 and min petal_length and convert it in to 1.2"
   ]
  },
  {
   "cell_type": "code",
   "execution_count": 9,
   "id": "80473ff4",
   "metadata": {},
   "outputs": [
    {
     "name": "stdout",
     "output_type": "stream",
     "text": [
      "max Petal Length: 6.9\n",
      "max petal Length: 1.0\n"
     ]
    }
   ],
   "source": [
    "df=pd.read_csv(\"iris (1).csv\")\n",
    "print(\"max Petal Length:\",df['Petal.Length'].max())\n",
    "print(\"max petal Length:\",df['Petal.Length'].min())"
   ]
  },
  {
   "cell_type": "code",
   "execution_count": 10,
   "id": "dc002547",
   "metadata": {},
   "outputs": [],
   "source": [
    "df.replace(to_replace=df[\"Petal.Length\"].max(),value=7.2,inplace=True)\n",
    "df.replace(to_replace=df[\"Petal.Length\"].min(),value=1.2,inplace=True)"
   ]
  },
  {
   "cell_type": "code",
   "execution_count": 11,
   "id": "541b83e5",
   "metadata": {},
   "outputs": [
    {
     "name": "stdout",
     "output_type": "stream",
     "text": [
      "max Petal Length: 7.2\n",
      "max petal Length: 1.1\n"
     ]
    }
   ],
   "source": [
    "print(\"max Petal Length:\",df['Petal.Length'].max())\n",
    "print(\"max petal Length:\",df['Petal.Length'].min())"
   ]
  },
  {
   "cell_type": "markdown",
   "id": "b506e7a6",
   "metadata": {},
   "source": [
    "### Q10) Perform right join to combine values based on the 'ID' in the two dataframes.\n",
    "### Use the dataframe given below, read the DataFrame with the help of clipboard function."
   ]
  },
  {
   "cell_type": "code",
   "execution_count": 12,
   "id": "df85cd6c",
   "metadata": {},
   "outputs": [
    {
     "data": {
      "text/html": [
       "<div>\n",
       "<style scoped>\n",
       "    .dataframe tbody tr th:only-of-type {\n",
       "        vertical-align: middle;\n",
       "    }\n",
       "\n",
       "    .dataframe tbody tr th {\n",
       "        vertical-align: top;\n",
       "    }\n",
       "\n",
       "    .dataframe thead th {\n",
       "        text-align: right;\n",
       "    }\n",
       "</style>\n",
       "<table border=\"1\" class=\"dataframe\">\n",
       "  <thead>\n",
       "    <tr style=\"text-align: right;\">\n",
       "      <th></th>\n",
       "      <th>ID</th>\n",
       "      <th>candidate_name</th>\n",
       "      <th>subject</th>\n",
       "      <th>city</th>\n",
       "      <th>subject_score</th>\n",
       "    </tr>\n",
       "  </thead>\n",
       "  <tbody>\n",
       "    <tr>\n",
       "      <th>0</th>\n",
       "      <td>101</td>\n",
       "      <td>alex</td>\n",
       "      <td>history</td>\n",
       "      <td>delhi</td>\n",
       "      <td>89</td>\n",
       "    </tr>\n",
       "    <tr>\n",
       "      <th>1</th>\n",
       "      <td>102</td>\n",
       "      <td>army</td>\n",
       "      <td>english</td>\n",
       "      <td>mumbai</td>\n",
       "      <td>78</td>\n",
       "    </tr>\n",
       "    <tr>\n",
       "      <th>2</th>\n",
       "      <td>103</td>\n",
       "      <td>allen</td>\n",
       "      <td>geography</td>\n",
       "      <td>delhi</td>\n",
       "      <td>77</td>\n",
       "    </tr>\n",
       "    <tr>\n",
       "      <th>3</th>\n",
       "      <td>104</td>\n",
       "      <td>alice</td>\n",
       "      <td>german</td>\n",
       "      <td>chennai</td>\n",
       "      <td>87</td>\n",
       "    </tr>\n",
       "    <tr>\n",
       "      <th>4</th>\n",
       "      <td>105</td>\n",
       "      <td>james</td>\n",
       "      <td>history</td>\n",
       "      <td>hyderabad</td>\n",
       "      <td>87</td>\n",
       "    </tr>\n",
       "    <tr>\n",
       "      <th>5</th>\n",
       "      <td>108</td>\n",
       "      <td>NaN</td>\n",
       "      <td>NaN</td>\n",
       "      <td>delhi</td>\n",
       "      <td>84</td>\n",
       "    </tr>\n",
       "  </tbody>\n",
       "</table>\n",
       "</div>"
      ],
      "text/plain": [
       "    ID candidate_name    subject       city  subject_score\n",
       "0  101           alex    history      delhi             89\n",
       "1  102           army    english     mumbai             78\n",
       "2  103          allen  geography      delhi             77\n",
       "3  104          alice     german    chennai             87\n",
       "4  105          james    history  hyderabad             87\n",
       "5  108            NaN        NaN      delhi             84"
      ]
     },
     "execution_count": 12,
     "metadata": {},
     "output_type": "execute_result"
    }
   ],
   "source": [
    "A1={\"ID\":[101,102,103,104,105,106,107],\"candidate_name\":['alex','army','allen','alice','james','sara','mia'],\n",
    "   \"subject\":['history','english','geography','german','history','german','english']}\n",
    "A2={\"ID\":[101,102,103,104,105,108],\"city\":['delhi','mumbai','delhi','chennai','hyderabad','delhi'],\n",
    "    \"subject_score\":[89,78,77,87,87,84]}\n",
    "df1=pd.DataFrame(A1)\n",
    "df2=pd.DataFrame(A2)\n",
    "pd.merge(df1,df2,how='right',on='ID')"
   ]
  }
 ],
 "metadata": {
  "kernelspec": {
   "display_name": "Python 3 (ipykernel)",
   "language": "python",
   "name": "python3"
  },
  "language_info": {
   "codemirror_mode": {
    "name": "ipython",
    "version": 3
   },
   "file_extension": ".py",
   "mimetype": "text/x-python",
   "name": "python",
   "nbconvert_exporter": "python",
   "pygments_lexer": "ipython3",
   "version": "3.11.4"
  }
 },
 "nbformat": 4,
 "nbformat_minor": 5
}
