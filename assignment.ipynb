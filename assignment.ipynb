{
 "cells": [
  {
   "cell_type": "markdown",
   "id": "d7d184df",
   "metadata": {},
   "source": [
    "# Questions from page 1"
   ]
  },
  {
   "cell_type": "code",
   "execution_count": 12,
   "id": "f6a097b2",
   "metadata": {},
   "outputs": [
    {
     "name": "stdout",
     "output_type": "stream",
     "text": [
      "enter the length:6\n",
      "enter the width:4\n",
      "The area of rectangle is 24.0\n"
     ]
    }
   ],
   "source": [
    "# question-1  calculate the area of rectangle\n",
    "\n",
    "S1=float(input(\"enter the length:\"))\n",
    "S2=float(input(\"enter the width:\"))\n",
    "result= S1*S2\n",
    "print(\"The area of rectangle is\",result)"
   ]
  },
  {
   "cell_type": "code",
   "execution_count": 13,
   "id": "42c8c852",
   "metadata": {},
   "outputs": [
    {
     "name": "stdout",
     "output_type": "stream",
     "text": [
      "enter your name:TARISHA SHARMA\n",
      "enter your age:21\n",
      " Hii TARISHA SHARMA age 21 \n",
      " We are welcome you to imarticus learning\n"
     ]
    }
   ],
   "source": [
    "# question-2  create greeting msg by taking name and age\n",
    "\n",
    "NAME=input(\"enter your name:\")\n",
    "AGE=int(input(\"enter your age:\"))\n",
    "\n",
    "print(\" Hii\",NAME,\"age\",AGE,\"\\n We are welcome you to imarticus learning\")"
   ]
  },
  {
   "cell_type": "code",
   "execution_count": 14,
   "id": "729f076d",
   "metadata": {},
   "outputs": [
    {
     "name": "stdout",
     "output_type": "stream",
     "text": [
      "enter a number:12\n",
      "Given number is even\n"
     ]
    }
   ],
   "source": [
    "# question=3  find if a no. is even or odd\n",
    "\n",
    "NUM=int(input(\"enter a number:\"))\n",
    "\n",
    "if(NUM%2)==0:\n",
    "    print(\"Given number is even\")\n",
    "    \n",
    "else:\n",
    "    print(\"Given number is odd\")"
   ]
  },
  {
   "cell_type": "code",
   "execution_count": 1,
   "id": "09da7fcc",
   "metadata": {},
   "outputs": [
    {
     "name": "stdout",
     "output_type": "stream",
     "text": [
      "enter the size of the list:4\n",
      "enter the number:22\n",
      "enter the number:10\n",
      "enter the number:18\n",
      "enter the number:30\n",
      "list:- ['22', '10', '18', '30']\n",
      "maximum value of the list:- 30\n",
      "minimum value of the list 10\n"
     ]
    }
   ],
   "source": [
    "# question-4  find max and min in given list\n",
    "\n",
    "L=[]\n",
    "N=int(input(\"enter the size of the list:\"))\n",
    "for i in range(0,N):\n",
    "    L.append(input(\"enter the number:\"))\n",
    "print(\"list:-\",L)    \n",
    "\n",
    "print(\"maximum value of the list:-\",max(L))\n",
    "print(\"minimum value of the list\",min(L))"
   ]
  },
  {
   "cell_type": "code",
   "execution_count": 1,
   "id": "0915b6ce",
   "metadata": {},
   "outputs": [
    {
     "name": "stdout",
     "output_type": "stream",
     "text": [
      "enter a string:nitin\n",
      "Given string is palindrome\n"
     ]
    }
   ],
   "source": [
    "#question-5  check if a given string is a palindrome\n",
    "\n",
    "str=input(\"enter a string:\")\n",
    "rev_str=(str[::-1]) #rev=reversed(str)\n",
    "\n",
    "if rev_str==str:\n",
    "    print(\"Given string is palindrome\")\n",
    "else:\n",
    "    print(\"Given string is not palindrome\")"
   ]
  },
  {
   "cell_type": "code",
   "execution_count": 22,
   "id": "e54d52f1",
   "metadata": {},
   "outputs": [
    {
     "name": "stdout",
     "output_type": "stream",
     "text": [
      "enter principal ammount:100\n",
      "enter interest rate:10\n",
      "enter time period:2\n",
      "compound interest is:- 21.000000000000014\n"
     ]
    }
   ],
   "source": [
    "# question-6  calculate CI by given PA,RATE,TIME\n",
    "\n",
    "PA=int(input(\"enter principal ammount:\"))\n",
    "R=int(input(\"enter interest rate:\"))\n",
    "T=int(input(\"enter time period:\"))\n",
    "\n",
    "Amount=PA*((1+R/100)**T)\n",
    "CI=Amount-PA\n",
    "print(\"compound interest is:-\",CI)"
   ]
  },
  {
   "cell_type": "code",
   "execution_count": 23,
   "id": "f4059b52",
   "metadata": {},
   "outputs": [
    {
     "name": "stdout",
     "output_type": "stream",
     "text": [
      "enter the numbers of days:365\n",
      "days:- 365.0\n",
      "weeks:- 52.142857142857146\n",
      "years:- 1.0\n"
     ]
    }
   ],
   "source": [
    "# question-7  converts number of days in year,weeks,days\n",
    "\n",
    "DAYS=int(input(\"enter the numbers of days:\"))\n",
    "WEEK=DAYS/7\n",
    "YEAR=DAYS/365\n",
    "print(\"days:-\",DAYS)\n",
    "print(\"weeks:-\",WEEK)\n",
    "print(\"years:-\",YEAR)"
   ]
  },
  {
   "cell_type": "code",
   "execution_count": 13,
   "id": "9d798648",
   "metadata": {},
   "outputs": [
    {
     "name": "stdout",
     "output_type": "stream",
     "text": [
      "enter the size of the list:4\n",
      "enter the number:2\n",
      "enter the number:-5\n",
      "enter the number:6\n",
      "enter the number:-3\n",
      "sum of positive numbers in the list:- 8\n"
     ]
    }
   ],
   "source": [
    "# question-8  find the sum of all positive no.\n",
    "\n",
    "NUM=[]\n",
    "A=0\n",
    "N=int(input(\"enter the size of the list:\"))\n",
    "for i in range(0,N):\n",
    "    NUM.append(int(input(\"enter the number:\")))\n",
    "for j in range (0,N):\n",
    "    if (NUM[j] > 0):\n",
    "        A=A+NUM[j]\n",
    "    if (NUM[j] < 0):\n",
    "        continue\n",
    "print(\"sum of positive numbers in the list:-\",A)        \n",
    "        "
   ]
  },
  {
   "cell_type": "code",
   "execution_count": 1,
   "id": "a19dffe4",
   "metadata": {},
   "outputs": [
    {
     "name": "stdout",
     "output_type": "stream",
     "text": [
      "enter a list of integer seprated by spaces:1 2 3 4 5 6 7 8 9 10\n",
      "[1, 2, 3, 4, 5, 6, 7, 8, 9, 10]\n"
     ]
    }
   ],
   "source": [
    "# q-8\n",
    "integer_list=[]\n",
    "input_str=input(\"enter a list of integer seprated by spaces:\")\n",
    "input_list=input_str.split()\n",
    "\n",
    "for num_str in input_list:\n",
    "    integer_list.append(int(num_str))\n",
    "print(integer_list)    "
   ]
  },
  {
   "cell_type": "code",
   "execution_count": 24,
   "id": "848bcb5c",
   "metadata": {},
   "outputs": [
    {
     "name": "stdout",
     "output_type": "stream",
     "text": [
      "enter your string:my name is tarisha sharma\n",
      "Total word in the string is:- 5\n"
     ]
    }
   ],
   "source": [
    "# question-9  count word in the string\n",
    "\n",
    "str=input(\"enter your string:\")\n",
    "\n",
    "# convert string into the list\n",
    "list=str.split()\n",
    "WN=len(list)\n",
    "print(\"Total word in the string is:-\",WN)"
   ]
  },
  {
   "cell_type": "code",
   "execution_count": 25,
   "id": "2f59fb24",
   "metadata": {},
   "outputs": [
    {
     "name": "stdout",
     "output_type": "stream",
     "text": [
      "enter the first variable:10\n",
      "enter the second variable:20\n",
      "10\n",
      "20\n",
      "value after swapping: 20\n",
      "value after swapping: 10\n"
     ]
    }
   ],
   "source": [
    "# question-10  swaps the values of two variables\n",
    "\n",
    "num1=input(\"enter the first variable:\")\n",
    "num2=input(\"enter the second variable:\")\n",
    "\n",
    "print(num1)\n",
    "print(num2)\n",
    "\n",
    "NUM=num1\n",
    "num1=num2\n",
    "num2=NUM\n",
    "\n",
    "print(\"value after swapping:\",num1)\n",
    "print(\"value after swapping:\",num2)"
   ]
  },
  {
   "cell_type": "markdown",
   "id": "e79209a4",
   "metadata": {},
   "source": [
    "# Questions from page 2"
   ]
  },
  {
   "cell_type": "code",
   "execution_count": 1,
   "id": "a4534e51",
   "metadata": {},
   "outputs": [
    {
     "name": "stdout",
     "output_type": "stream",
     "text": [
      "enter the size of the list:4\n",
      "enter the number:10\n",
      "enter the number:22\n",
      "enter the number:32\n",
      "enter the number:41\n",
      "the list is:- [10, 22, 32, 41]\n",
      "the sum of list:- 105\n",
      "the avg of list:- 26.25\n"
     ]
    }
   ],
   "source": [
    "# question-1  find sum and avg\n",
    "\n",
    "NUM=[]\n",
    "S=0\n",
    "N=int(input(\"enter the size of the list:\"))\n",
    "for i in range(0,N):\n",
    "    NUM.append(int(input(\"enter the number:\")))\n",
    "for j in range (0,N): \n",
    "     S=S+NUM[j]\n",
    "print(\"the list is:-\",NUM)\n",
    "print(\"the sum of list:-\",S)\n",
    "print(\"the avg of list:-\",S/N)"
   ]
  },
  {
   "cell_type": "code",
   "execution_count": 2,
   "id": "f0dc211c",
   "metadata": {},
   "outputs": [
    {
     "name": "stdout",
     "output_type": "stream",
     "text": [
      "sum= 10\n",
      "avg 2.5\n"
     ]
    }
   ],
   "source": [
    "# for sum \n",
    "a=[1,2,3,4]\n",
    "print(\"sum=\",sum(a))\n",
    "# for avg\n",
    "c=sum(a)/len(a)\n",
    "print('avg',c)"
   ]
  },
  {
   "cell_type": "code",
   "execution_count": 28,
   "id": "06722705",
   "metadata": {},
   "outputs": [
    {
     "name": "stdout",
     "output_type": "stream",
     "text": [
      "enter the temperature in the celsius:31\n",
      "TEMPERATURE IN KELVIN IS 304.15 K\n"
     ]
    }
   ],
   "source": [
    "# question-2 conert temp celsius into kelvin\n",
    "\n",
    "T=float(input(\"enter the temperature in the celsius:\"))\n",
    "K=T+273.15\n",
    "print(\"TEMPERATURE IN KELVIN IS\",K,\"K\")"
   ]
  },
  {
   "cell_type": "code",
   "execution_count": 29,
   "id": "dc9813be",
   "metadata": {},
   "outputs": [
    {
     "name": "stdout",
     "output_type": "stream",
     "text": [
      "enter a string:AFA\n",
      "Given string is palindrome\n"
     ]
    }
   ],
   "source": [
    "# question-3  check if a string is a palindrome\n",
    "\n",
    "str=input(\"enter a string:\")\n",
    "rev_str=(str[::-1])\n",
    "\n",
    "if rev_str==str:\n",
    "    print(\"Given string is palindrome\")\n",
    "else:\n",
    "    print(\"Given string is not palindrome\")"
   ]
  },
  {
   "cell_type": "code",
   "execution_count": 30,
   "id": "08f0fd98",
   "metadata": {},
   "outputs": [
    {
     "name": "stdout",
     "output_type": "stream",
     "text": [
      "enter a string:Tarisha\n",
      "the original string is:- Tarisha\n",
      "the reverse string is:- ahsiraT\n"
     ]
    }
   ],
   "source": [
    "# question-4  create a reverse string\n",
    "\n",
    "str=input(\"enter a string:\")\n",
    "print(\"the original string is:-\", str)\n",
    "\n",
    "rev_str=(str[::-1])\n",
    "print(\"the reverse string is:-\",rev_str )\n",
    "\n"
   ]
  },
  {
   "cell_type": "code",
   "execution_count": 2,
   "id": "3ff28d89",
   "metadata": {},
   "outputs": [
    {
     "name": "stdout",
     "output_type": "stream",
     "text": [
      "enter the size of the list:4\n",
      "enter the elements of the list:tarisha\n",
      "enter the elements of the list:gunjan\n",
      "enter the elements of the list:ankit\n",
      "enter the elements of the list:yashasvi\n",
      "List:- ['tarisha', 'gunjan', 'ankit', 'yashasvi']\n",
      "String:- tarisha gunjan ankit yashasvi \n"
     ]
    }
   ],
   "source": [
    "# question-5 convert into string\n",
    "L=[]\n",
    "A=\"\"\n",
    "N=int(input(\"enter the size of the list:\"))\n",
    "for i in range(0,N):\n",
    "    L.append(input(\"enter the elements of the list:\"))\n",
    "print(\"List:-\",L)\n",
    "\n",
    "# convert list into string\n",
    "for j in L:\n",
    "    A+=j\n",
    "    A+=\" \"\n",
    "print(\"String:-\",A) "
   ]
  },
  {
   "cell_type": "code",
   "execution_count": 8,
   "id": "de074508",
   "metadata": {},
   "outputs": [
    {
     "name": "stdout",
     "output_type": "stream",
     "text": [
      "tarisha gunjan ankit yashasvi \n"
     ]
    }
   ],
   "source": [
    "# question-5\n",
    "lt=[\"tarisha\",\"gunjan\",\"ankit\",\"yashasvi\"]\n",
    "k=\"\"\n",
    "j=\" \"\n",
    "for i in range(len(lt)):\n",
    "    k=k+lt[i]+j\n",
    "print(k)    "
   ]
  },
  {
   "cell_type": "code",
   "execution_count": 7,
   "id": "a17cf1ad",
   "metadata": {},
   "outputs": [
    {
     "name": "stdout",
     "output_type": "stream",
     "text": [
      "enter the string:-abcdefghijklmnopqrstuvwxyz\n",
      "pangram\n"
     ]
    }
   ],
   "source": [
    "# question-6  `check if a string is a pangram\n",
    "\n",
    "t=[\"a\",\"b\",\"c\",\"d\",\"e\",\"f\",\"g\",\"h\",\"i\",\"j\",\"k\",\"l\",\"m\",\"n\",\"o\",\"p\",\"q\",\"r\",\"s\",\"t\",\"u\",\"v\",\"w\",\"x\",\"y\",\"z\"]\n",
    "a=input(\"enter the string:-\")\n",
    "for i in a:\n",
    "    for j in t:\n",
    "        if (i==j):\n",
    "            t.remove(i)\n",
    "if (len(t))==0:\n",
    "    print(\"pangram\")\n",
    "else:\n",
    "    print(\"not\")\n",
    "    "
   ]
  },
  {
   "cell_type": "code",
   "execution_count": 3,
   "id": "19531c64",
   "metadata": {},
   "outputs": [
    {
     "name": "stdout",
     "output_type": "stream",
     "text": [
      "enter the radius of circle:-7\n",
      "the area of circle is 154.0\n",
      "the circumference of circle is 44.0\n"
     ]
    }
   ],
   "source": [
    "# question-7 find the area and circumference\n",
    "\n",
    "R=int(input(\"enter the radius of circle:-\"))\n",
    "A=(22/7)*R*R\n",
    "C=2*(22/7)*R\n",
    "\n",
    "print(\"the area of circle is\",A)\n",
    "print(\"the circumference of circle is\",C)"
   ]
  },
  {
   "cell_type": "code",
   "execution_count": 4,
   "id": "4f207784",
   "metadata": {},
   "outputs": [
    {
     "name": "stdout",
     "output_type": "stream",
     "text": [
      "enter the number of minutes:-125\n",
      "HOURS 2.0833333333333335 AND MINUTES 5\n"
     ]
    }
   ],
   "source": [
    "# question-8  convert minutes into hours and minutes\n",
    "\n",
    "T=int(input(\"enter the number of minutes:-\"))\n",
    "\n",
    "if(T<60):\n",
    "    print(\"MINUTES\",T)\n",
    "if(T>60):\n",
    "    H=T/60\n",
    "    M=T%60\n",
    "    print(\"HOURS\",H,\"AND MINUTES\",M )\n",
    "\n"
   ]
  },
  {
   "cell_type": "code",
   "execution_count": 7,
   "id": "2f4c2c4e",
   "metadata": {},
   "outputs": [
    {
     "name": "stdout",
     "output_type": "stream",
     "text": [
      "enter the sentence:my name is tarisha sharma\n",
      "total number of vowels in this string:- 8\n"
     ]
    }
   ],
   "source": [
    "# question-9 count the vowels in the string\n",
    "\n",
    "S=input(\"enter the sentence:\")\n",
    "v=0\n",
    "for i in S:\n",
    "    if(i==\"a\" or i==\"e\" or i==\"i\" or i==\"o\" or i==\"u\"):\n",
    "        v=v+1\n",
    "print(\"total number of vowels in this string:-\",v)    "
   ]
  },
  {
   "cell_type": "code",
   "execution_count": 3,
   "id": "9181365f",
   "metadata": {},
   "outputs": [
    {
     "name": "stdout",
     "output_type": "stream",
     "text": [
      "enter the number:-22\n",
      "the number is not prime\n"
     ]
    }
   ],
   "source": [
    "# question-10  check is a number is prime\n",
    "\n",
    "num=int(input(\"enter the number:-\"))\n",
    "for i in range(2,int(num/2)):\n",
    "    if(num%i==0):\n",
    "        print(\"the number is not prime\")\n",
    "        break\n",
    "    else:\n",
    "        print(\"the number is prime\")"
   ]
  }
 ],
 "metadata": {
  "kernelspec": {
   "display_name": "Python 3 (ipykernel)",
   "language": "python",
   "name": "python3"
  },
  "language_info": {
   "codemirror_mode": {
    "name": "ipython",
    "version": 3
   },
   "file_extension": ".py",
   "mimetype": "text/x-python",
   "name": "python",
   "nbconvert_exporter": "python",
   "pygments_lexer": "ipython3",
   "version": "3.11.4"
  }
 },
 "nbformat": 4,
 "nbformat_minor": 5
}
